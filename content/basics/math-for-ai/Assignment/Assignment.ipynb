{
 "cells": [
  {
   "cell_type": "markdown",
   "metadata": {},
   "source": [
    "<h1 align=\"center\"><font color='#4169E1'>AI Camp : </font> <font color='#D23B68'>Math for AI</font></h1>"
   ]
  },
  {
   "cell_type": "markdown",
   "metadata": {},
   "source": [
    "<a id='0'></a>\n",
    "<h1><font color='#4169E1'>I. Linear Algebra</font></h1>"
   ]
  },
  {
   "cell_type": "markdown",
   "metadata": {},
   "source": [
    "To see the power of vectors, I want you to :\n",
    "\n",
    "1. Write a Python function : `sum_of_squares_loop`, that takes a list of numbers and calculates the sum of their squares using a loop.\n",
    "   - Example: If the input is `[1, 2, 3, 4, 5]`, the output should be `1^2 + 2^2 + 3^2 + 4^2 + 5^2 = 55`.\n",
    "\n",
    "2. Write a Python function `sum_of_squares_vectors`, that takes a vector of numbers as input and calculates the sum of its components' squares using vectorized operations.\n",
    "   - Use the `numpy` library to perform the vectorized calculation.\n",
    "\n",
    "3. Compare the execution times of the loop-based and vector-based approaches.\n",
    "\n",
    "**Hint:**\n",
    "You can use the following template for measuring execution time:"
   ]
  },
  {
   "cell_type": "code",
   "execution_count": null,
   "metadata": {},
   "outputs": [],
   "source": [
    "import time\n",
    "\n",
    "# Record the start time\n",
    "start_time = time.time()\n",
    "\n",
    "# Call the function you want to measure\n",
    "# Example: sum_of_squares_loop([1, 2, 3, 4, 5])\n",
    "\n",
    "# Record the end time\n",
    "end_time = time.time()\n",
    "\n",
    "# Calculate the execution time\n",
    "execution_time = end_time - start_time\n",
    "\n",
    "print(f\"Execution Time: {execution_time} seconds\")"
   ]
  },
  {
   "cell_type": "markdown",
   "metadata": {},
   "source": [
    "<a id='1'></a>\n",
    "<h1><font color='#4169E1'>II. Calculus</font></h1>"
   ]
  },
  {
   "cell_type": "markdown",
   "metadata": {},
   "source": [
    "A famous loss function that is widely used in Machine Learning is called Mean Sqaured Error (MSE) : \n",
    "$$\\text{MSE} = \\frac{1}{n} \\sum_{i=1}^{n} (y_i - f(x_i))^2$$\n",
    "\n",
    "- $n$ is the number of data points.\n",
    "- $y_i$ is the actual output for the $i_{th}$ data point.\n",
    "- $f(x_i)$ is the predicted output for the $i_{th}$ data point."
   ]
  },
  {
   "cell_type": "markdown",
   "metadata": {},
   "source": [
    "For the same of this homework, a more simplified version of this function is proposed : \n",
    "$$f(x,y) = \\frac{1}{2}(y-x)^2$$"
   ]
  },
  {
   "cell_type": "markdown",
   "metadata": {},
   "source": [
    "You are asked to : \n",
    "1. Implement the function $f$ and its gradient $\\nabla f$ in Python.\n",
    "2. Plot $f$ in a 3D space.\n",
    "3. Implement gradient descent to minimize this function, using the number of iterations as a *termination condition*.\n",
    "4. Run gradient descent on the function, starting from an initial point $(x_0,y_0)=(5,-13)$, with a maximum number of iterations $50$.\n",
    "5. Print the results.\n",
    "\n",
    "**Bonus for ninjas:** add a history to save the progress of gradient descent and plot it on a contour plot of the function $f$ "
   ]
  },
  {
   "cell_type": "markdown",
   "metadata": {},
   "source": [
    "<a id='2'></a>\n",
    "<h1><font color='#4169E1'>III. Statistics</font></h1>"
   ]
  },
  {
   "cell_type": "markdown",
   "metadata": {},
   "source": [
    "Let's explore a new dataset.\n",
    "The `world_happiness` dataset includes information about the happiness levels of individuals in various countries based on many social and economic factors.\n",
    "You are asked to:\n",
    "1. Import the dataset from the CSV file as a DataFrame.\n",
    "2. Using `Pandas`, retrieve the happiness score for Algeria.\n",
    "3. Plot a histogram of this data, where each bin represents a country, and the y-axis represents the happiness score. On the same plot, include a line for the mean happiness score and identify countries with below-average happiness scores.\n"
   ]
  },
  {
   "cell_type": "markdown",
   "metadata": {},
   "source": [
    "</h1><font color='#D23B68'>Give me feedback about today's workshop :)</font></h1>"
   ]
  },
  {
   "cell_type": "markdown",
   "metadata": {},
   "source": []
  },
  {
   "cell_type": "markdown",
   "metadata": {},
   "source": [
    "If you want me to review and correct your assignment, feel free to submit it via this form :\n",
    "https://forms.gle/Dc8msnK5JxyncKS4A"
   ]
  }
 ],
 "metadata": {
  "kernelspec": {
   "display_name": "Python 3",
   "language": "python",
   "name": "python3"
  },
  "language_info": {
   "codemirror_mode": {
    "name": "ipython",
    "version": 3
   },
   "file_extension": ".py",
   "mimetype": "text/x-python",
   "name": "python",
   "nbconvert_exporter": "python",
   "pygments_lexer": "ipython3",
   "version": "3.10.12"
  },
  "orig_nbformat": 4
 },
 "nbformat": 4,
 "nbformat_minor": 2
}
