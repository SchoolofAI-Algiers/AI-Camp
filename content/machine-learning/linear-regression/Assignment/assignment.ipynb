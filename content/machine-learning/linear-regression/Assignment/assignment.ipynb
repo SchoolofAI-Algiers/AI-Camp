{
 "cells": [
  {
   "cell_type": "markdown",
   "metadata": {},
   "source": [
    "<h1 align=\"center\"><font color='#4169E1'>Assignment: </font> <font color='#D23B68'>Linear Regression</font></h1>"
   ]
  },
  {
   "cell_type": "code",
   "execution_count": null,
   "metadata": {},
   "outputs": [],
   "source": [
    "import pandas as pd\n",
    "dataset = pd.read_csv(\"Notes_cf.csv\")\n",
    "dataset"
   ]
  },
  {
   "cell_type": "markdown",
   "metadata": {},
   "source": [
    "**Seperating the features from target :**"
   ]
  },
  {
   "cell_type": "code",
   "execution_count": null,
   "metadata": {},
   "outputs": [],
   "source": [
    "x = dataset.drop('Note CF',axis=1)\n",
    "y = dataset['Note CF']"
   ]
  },
  {
   "cell_type": "markdown",
   "metadata": {},
   "source": [
    "**Splitting data into training data and test data :**"
   ]
  },
  {
   "cell_type": "code",
   "execution_count": null,
   "metadata": {},
   "outputs": [],
   "source": [
    "# Import the necessary function\n",
    "from sklearn.model_selection import ......\n",
    "\n",
    "# Perform the split (train data is 80% of the data)\n",
    "x_train , x_test , y_train , y_test =  .........\n",
    "\n",
    "print(x_train.shape)\n",
    "print(x_test.shape)\n",
    "print(y_train.shape)\n",
    "print(y_test.shape)"
   ]
  },
  {
   "cell_type": "markdown",
   "metadata": {},
   "source": [
    "You should get this result : \n",
    "```\n",
    "(8000, 5)\n",
    "(2000, 5)\n",
    "(8000,)\n",
    "(2000,)\n",
    "```"
   ]
  },
  {
   "cell_type": "markdown",
   "metadata": {},
   "source": [
    "**Performing Linear Regression, to learn predicting `La note CF` :**"
   ]
  },
  {
   "cell_type": "code",
   "execution_count": null,
   "metadata": {},
   "outputs": [],
   "source": [
    "# Import the necessary function :\n",
    "from sklearn.linear_model import .........\n",
    "\n",
    "# Create a regression model :\n",
    "model = ..........\n",
    "\n",
    "# Train it on the training data :\n",
    "..........."
   ]
  },
  {
   "cell_type": "code",
   "execution_count": null,
   "metadata": {},
   "outputs": [],
   "source": [
    "# Check the model's learned coefficients : \n",
    "print(\"Coefficients: \\n\", model.coef_)"
   ]
  },
  {
   "cell_type": "markdown",
   "metadata": {},
   "source": [
    "**Using the coefficients, write the linear regression equation in this markdown cell :**"
   ]
  },
  {
   "cell_type": "markdown",
   "metadata": {},
   "source": [
    "## Model evaluation"
   ]
  },
  {
   "cell_type": "markdown",
   "metadata": {},
   "source": [
    "**Using the trained model on the test data :**"
   ]
  },
  {
   "cell_type": "code",
   "execution_count": null,
   "metadata": {},
   "outputs": [],
   "source": [
    "y_pred_test = .................."
   ]
  },
  {
   "cell_type": "markdown",
   "metadata": {},
   "source": [
    "**Using the three evaluation metrics presented during the workshop, evaluate the trained model :**"
   ]
  },
  {
   "cell_type": "code",
   "execution_count": null,
   "metadata": {},
   "outputs": [],
   "source": [
    "# Import the necessary functions : \n",
    "from sklearn.metrics import ...... , ......... , ...........\n",
    "\n",
    "MAE = ..........\n",
    "MSE = ...........\n",
    "r2score = .........\n",
    "\n",
    "print(\"-----Model Evaluation on Test Data-----\")\n",
    "print(\"Mean Absolute Error: \",MAE)\n",
    "print(\"Mean Squared Error: :\",MSE)\n",
    "print(\"R2_score: \",r2score)"
   ]
  },
  {
   "cell_type": "markdown",
   "metadata": {},
   "source": [
    "You should get this result : \n",
    "```\n",
    "-----Model Evaluation on Test Data-----\n",
    "MAE: 0.3692903059558691\n",
    "MSE: 0.216619576399569\n",
    "R2_score: 0.9881864993347276\n",
    "```"
   ]
  },
  {
   "cell_type": "markdown",
   "metadata": {},
   "source": [
    "## Fun activity"
   ]
  },
  {
   "cell_type": "markdown",
   "metadata": {},
   "source": [
    "Try to use the model that you jus trained to predict your own CF grade :)"
   ]
  },
  {
   "cell_type": "code",
   "execution_count": null,
   "metadata": {},
   "outputs": [],
   "source": [
    "import numpy as np\n",
    "\n",
    "Hours_Studied = ........\n",
    "Note_CI = ........... \n",
    "Dakhel_fi_club = ........\n",
    "Sleep_Hours = .........\n",
    "ch7al_mn_CF_9dim_halit =  .........\n",
    "\n",
    "you = np.array([Hours_Studied, Note_CI, Dakhel_fi_club, Sleep_Hours, ch7al_mn_CF_9dim_halit])\n",
    "\n",
    "you = you.reshape(1, -1)\n",
    "\n",
    "prediction = model.predict(you)[0]\n",
    "\n",
    "print(\"La note CF ta3ek = \",prediction)"
   ]
  }
 ],
 "metadata": {
  "kernelspec": {
   "display_name": "Python 3 (ipykernel)",
   "language": "python",
   "name": "python3"
  },
  "language_info": {
   "codemirror_mode": {
    "name": "ipython",
    "version": 3
   },
   "file_extension": ".py",
   "mimetype": "text/x-python",
   "name": "python",
   "nbconvert_exporter": "python",
   "pygments_lexer": "ipython3",
   "version": "3.10.12"
  }
 },
 "nbformat": 4,
 "nbformat_minor": 2
}
