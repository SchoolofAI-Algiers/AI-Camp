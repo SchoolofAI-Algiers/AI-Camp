{
  "nbformat": 4,
  "nbformat_minor": 0,
  "metadata": {
    "colab": {
      "provenance": []
    },
    "kernelspec": {
      "name": "python3",
      "display_name": "Python 3"
    },
    "language_info": {
      "name": "python"
    }
  },
  "cells": [
    {
      "cell_type": "code",
      "source": [
        "c = 3 + 5j\n",
        "print(type(c))"
      ],
      "metadata": {
        "colab": {
          "base_uri": "https://localhost:8080/"
        },
        "id": "_nu4kDuaRCYu",
        "outputId": "3dece734-0930-43bb-a135-656385525789"
      },
      "execution_count": 93,
      "outputs": [
        {
          "output_type": "stream",
          "name": "stdout",
          "text": [
            "<class 'complex'>\n"
          ]
        }
      ]
    },
    {
      "cell_type": "code",
      "source": [
        "name = \"i'slam\"\n",
        "print(len(name))"
      ],
      "metadata": {
        "colab": {
          "base_uri": "https://localhost:8080/"
        },
        "id": "eTlNDLe2SUS0",
        "outputId": "5c87a196-4d11-4cda-eb7b-d1d00c96ed62"
      },
      "execution_count": 96,
      "outputs": [
        {
          "output_type": "stream",
          "name": "stdout",
          "text": [
            "6\n"
          ]
        }
      ]
    },
    {
      "cell_type": "code",
      "source": [
        "print(name.upper())"
      ],
      "metadata": {
        "colab": {
          "base_uri": "https://localhost:8080/"
        },
        "id": "V6wXhMt_Skh-",
        "outputId": "c4904539-bf47-44a8-c370-a0c63b213f8f"
      },
      "execution_count": 97,
      "outputs": [
        {
          "output_type": "stream",
          "name": "stdout",
          "text": [
            "I'SLAM\n"
          ]
        }
      ]
    },
    {
      "cell_type": "code",
      "source": [
        "print(name[1:3])"
      ],
      "metadata": {
        "colab": {
          "base_uri": "https://localhost:8080/"
        },
        "id": "CEU1bWMGSqUi",
        "outputId": "c88f7a95-5165-4b8b-bf1f-a6d895e3b215"
      },
      "execution_count": 99,
      "outputs": [
        {
          "output_type": "stream",
          "name": "stdout",
          "text": [
            "'s\n"
          ]
        }
      ]
    },
    {
      "cell_type": "code",
      "source": [
        "tp = (1,2)\n",
        "my_list = [1,2]\n",
        "my_list[0] = 2\n",
        "print(my_list)"
      ],
      "metadata": {
        "colab": {
          "base_uri": "https://localhost:8080/"
        },
        "id": "T2DaS8yZTIV9",
        "outputId": "d22f0258-21c5-48c9-aa32-4a0668451ef6"
      },
      "execution_count": 100,
      "outputs": [
        {
          "output_type": "stream",
          "name": "stdout",
          "text": [
            "[2, 2]\n"
          ]
        }
      ]
    },
    {
      "cell_type": "code",
      "source": [
        "print(len(my_list))"
      ],
      "metadata": {
        "colab": {
          "base_uri": "https://localhost:8080/"
        },
        "id": "5tRqR6OCTQ4K",
        "outputId": "7bb0cb07-6358-455d-8941-9bb25561ad24"
      },
      "execution_count": 103,
      "outputs": [
        {
          "output_type": "stream",
          "name": "stdout",
          "text": [
            "2\n"
          ]
        }
      ]
    },
    {
      "cell_type": "code",
      "source": [
        "my_list.append(3)\n",
        "print(my_list)"
      ],
      "metadata": {
        "colab": {
          "base_uri": "https://localhost:8080/"
        },
        "id": "Rt0Uw2QGTmhJ",
        "outputId": "b797ce80-880f-41ef-9efd-946c3a82d1c4"
      },
      "execution_count": 104,
      "outputs": [
        {
          "output_type": "stream",
          "name": "stdout",
          "text": [
            "[2, 2, 3]\n"
          ]
        }
      ]
    },
    {
      "cell_type": "code",
      "source": [
        "my_list.remove(2)\n",
        "print(my_list)"
      ],
      "metadata": {
        "colab": {
          "base_uri": "https://localhost:8080/"
        },
        "id": "iA2KGhGdTs0_",
        "outputId": "37369095-7ea6-4e2d-9fd4-048eee383aa7"
      },
      "execution_count": 106,
      "outputs": [
        {
          "output_type": "stream",
          "name": "stdout",
          "text": [
            "[3]\n"
          ]
        }
      ]
    },
    {
      "cell_type": "code",
      "source": [
        "print(len(tp))"
      ],
      "metadata": {
        "colab": {
          "base_uri": "https://localhost:8080/"
        },
        "id": "ya_f01QOT3OO",
        "outputId": "a7f1a14d-50fa-4050-8a7c-5890616d327b"
      },
      "execution_count": 107,
      "outputs": [
        {
          "output_type": "stream",
          "name": "stdout",
          "text": [
            "2\n"
          ]
        }
      ]
    },
    {
      "cell_type": "code",
      "source": [
        "d = {\"name\":\"islam\",\"age\":20}\n",
        "print(d)"
      ],
      "metadata": {
        "colab": {
          "base_uri": "https://localhost:8080/"
        },
        "id": "9Kkpgnu1UEnF",
        "outputId": "4244101b-9378-458f-f43c-790faeb14753"
      },
      "execution_count": 108,
      "outputs": [
        {
          "output_type": "stream",
          "name": "stdout",
          "text": [
            "{'name': 'islam', 'age': 20}\n"
          ]
        }
      ]
    },
    {
      "cell_type": "code",
      "source": [
        "s = {1,2,3,4,4}\n",
        "print(s)"
      ],
      "metadata": {
        "colab": {
          "base_uri": "https://localhost:8080/"
        },
        "id": "MvhUVZTBURZT",
        "outputId": "d84eca31-495c-4b89-d7a2-49c4197e8627"
      },
      "execution_count": 109,
      "outputs": [
        {
          "output_type": "stream",
          "name": "stdout",
          "text": [
            "{1, 2, 3, 4}\n"
          ]
        }
      ]
    },
    {
      "cell_type": "code",
      "source": [
        "s = set()\n",
        "print(s)"
      ],
      "metadata": {
        "colab": {
          "base_uri": "https://localhost:8080/"
        },
        "id": "Vo40kyRhUc7M",
        "outputId": "1432612e-2fed-4206-eb9b-2abaa2fc0a86"
      },
      "execution_count": 110,
      "outputs": [
        {
          "output_type": "stream",
          "name": "stdout",
          "text": [
            "set()\n"
          ]
        }
      ]
    },
    {
      "cell_type": "code",
      "source": [
        "a = \"abc\"\n",
        "int_a = int(a)\n",
        "list_a = list(a)\n",
        "print(list_a)"
      ],
      "metadata": {
        "colab": {
          "base_uri": "https://localhost:8080/"
        },
        "id": "XmJTuVriUo_y",
        "outputId": "35999157-a6d2-4d95-bb22-b651628c29ae"
      },
      "execution_count": 113,
      "outputs": [
        {
          "output_type": "stream",
          "name": "stdout",
          "text": [
            "['1', '5']\n"
          ]
        }
      ]
    },
    {
      "cell_type": "code",
      "source": [
        "c = 10\n",
        "# and or not\n",
        "if not c > 10:\n",
        "  print(\"c > 10\")\n",
        "elif c == 10:\n",
        "  print(\" c = 10\")\n",
        "else:\n",
        "  print(\"c <= 10\")"
      ],
      "metadata": {
        "colab": {
          "base_uri": "https://localhost:8080/"
        },
        "id": "ixkn7c2nVHCU",
        "outputId": "bbfca55e-24a9-4e3c-af2f-a0e1f046c2a8"
      },
      "execution_count": 161,
      "outputs": [
        {
          "output_type": "stream",
          "name": "stdout",
          "text": [
            "c > 10\n"
          ]
        }
      ]
    },
    {
      "cell_type": "code",
      "source": [
        "fruits = [\"apple\",\"orange\",\"banana\"]\n",
        "for i in fruits:\n",
        "  print(i)"
      ],
      "metadata": {
        "colab": {
          "base_uri": "https://localhost:8080/"
        },
        "id": "ZyR5GL-CVwKf",
        "outputId": "003af88e-470b-42cc-8bc3-455bc89e7e50"
      },
      "execution_count": 118,
      "outputs": [
        {
          "output_type": "stream",
          "name": "stdout",
          "text": [
            "apple\n",
            "orange\n",
            "banana\n"
          ]
        }
      ]
    },
    {
      "cell_type": "code",
      "source": [
        "for i in range(10):\n",
        "  print(i)"
      ],
      "metadata": {
        "colab": {
          "base_uri": "https://localhost:8080/"
        },
        "id": "S0Bq7tnQWEc3",
        "outputId": "cedf810e-2f88-49cf-e370-9f78005ac753"
      },
      "execution_count": 122,
      "outputs": [
        {
          "output_type": "stream",
          "name": "stdout",
          "text": [
            "0\n",
            "1\n",
            "2\n",
            "3\n",
            "4\n",
            "5\n",
            "6\n",
            "7\n",
            "8\n",
            "9\n"
          ]
        }
      ]
    },
    {
      "cell_type": "code",
      "source": [
        "cpt = 0\n",
        "while cpt < 5:\n",
        "  print(cpt)\n",
        "  cpt = cpt +1\n",
        "  if cpt == 2:\n",
        "    break"
      ],
      "metadata": {
        "colab": {
          "base_uri": "https://localhost:8080/"
        },
        "id": "NaA_lx3kWbxn",
        "outputId": "ff734f3b-1ab3-42d2-acd4-9f4fba567681"
      },
      "execution_count": 124,
      "outputs": [
        {
          "output_type": "stream",
          "name": "stdout",
          "text": [
            "0\n",
            "1\n"
          ]
        }
      ]
    },
    {
      "cell_type": "code",
      "source": [
        "def greet(name):\n",
        "  print(\"Hello \"+ name+ \"!\")\n",
        "\n",
        "name = \"islam\"\n",
        "greet(name)"
      ],
      "metadata": {
        "colab": {
          "base_uri": "https://localhost:8080/"
        },
        "id": "Tl2Z5XNQW6W8",
        "outputId": "d7ef7740-945a-445c-fb90-0471e727ce23"
      },
      "execution_count": 125,
      "outputs": [
        {
          "output_type": "stream",
          "name": "stdout",
          "text": [
            "Hello islam!\n"
          ]
        }
      ]
    },
    {
      "cell_type": "code",
      "source": [
        "first_name =\"tobni\"\n",
        "last_name = \"islam\"\n",
        "print(first_name + \" \" + last_name)"
      ],
      "metadata": {
        "colab": {
          "base_uri": "https://localhost:8080/"
        },
        "id": "6N7UPwo7XQJO",
        "outputId": "c17cf15e-c070-4529-e3b9-bb1bf7562e68"
      },
      "execution_count": 126,
      "outputs": [
        {
          "output_type": "stream",
          "name": "stdout",
          "text": [
            "tobni islam\n"
          ]
        }
      ]
    },
    {
      "cell_type": "code",
      "source": [
        "def addfive(a):\n",
        "  return a +5\n",
        "\n",
        "a = 3\n",
        "a = addfive(a)\n",
        "print(a)"
      ],
      "metadata": {
        "colab": {
          "base_uri": "https://localhost:8080/"
        },
        "id": "g3KCyYFpXb6C",
        "outputId": "27229db6-7201-4a1f-f8ac-fe2d140caa42"
      },
      "execution_count": 127,
      "outputs": [
        {
          "output_type": "stream",
          "name": "stdout",
          "text": [
            "8\n"
          ]
        }
      ]
    },
    {
      "cell_type": "code",
      "source": [
        "import math\n",
        "\n",
        "n = 9\n",
        "root_n = math.sqrt(n)\n",
        "print(root_n)"
      ],
      "metadata": {
        "colab": {
          "base_uri": "https://localhost:8080/"
        },
        "id": "Tt9m7cx2Xu8J",
        "outputId": "872170a8-7a32-4ca8-ef13-c52ffd18ed7d"
      },
      "execution_count": 129,
      "outputs": [
        {
          "output_type": "stream",
          "name": "stdout",
          "text": [
            "3.0\n"
          ]
        }
      ]
    },
    {
      "cell_type": "code",
      "source": [
        "import numpy as np\n",
        "\n",
        "arr = np.array([1,2,3])\n",
        "print(type(arr))"
      ],
      "metadata": {
        "colab": {
          "base_uri": "https://localhost:8080/"
        },
        "id": "K4gvE48CYIF4",
        "outputId": "688be330-cc2c-4012-e75d-01a008477d55"
      },
      "execution_count": 132,
      "outputs": [
        {
          "output_type": "stream",
          "name": "stdout",
          "text": [
            "<class 'numpy.ndarray'>\n"
          ]
        }
      ]
    },
    {
      "cell_type": "code",
      "source": [
        "print(arr[0:2])"
      ],
      "metadata": {
        "colab": {
          "base_uri": "https://localhost:8080/"
        },
        "id": "dZwRpkS8Y6SB",
        "outputId": "a3597d25-e69d-4f69-ad22-a42f0b6520d1"
      },
      "execution_count": 134,
      "outputs": [
        {
          "output_type": "stream",
          "name": "stdout",
          "text": [
            "[1 2]\n"
          ]
        }
      ]
    },
    {
      "cell_type": "code",
      "source": [
        "l = [[1,2,3],[4,5,6]]\n",
        "arr_2 = np.array(l)\n",
        "print(arr_2)"
      ],
      "metadata": {
        "colab": {
          "base_uri": "https://localhost:8080/"
        },
        "id": "ZC3qPbhLZMRs",
        "outputId": "8d8779b6-acb1-4d6e-89d5-074b202fdd18"
      },
      "execution_count": 135,
      "outputs": [
        {
          "output_type": "stream",
          "name": "stdout",
          "text": [
            "[[1 2 3]\n",
            " [4 5 6]]\n"
          ]
        }
      ]
    },
    {
      "cell_type": "code",
      "source": [
        "l_2 = [1,2,3]\n",
        "arr_3 = np.array(l_2)\n",
        "print(arr_3 +1)"
      ],
      "metadata": {
        "colab": {
          "base_uri": "https://localhost:8080/"
        },
        "id": "FhTjjXfPZcrY",
        "outputId": "774404ac-aaa3-4ffd-b8e4-c4b11c62c194"
      },
      "execution_count": 140,
      "outputs": [
        {
          "output_type": "stream",
          "name": "stdout",
          "text": [
            "[2 3 4]\n"
          ]
        }
      ]
    },
    {
      "cell_type": "code",
      "source": [
        "arr_4 = np.arange(0,20,2)\n",
        "print(arr_4)"
      ],
      "metadata": {
        "colab": {
          "base_uri": "https://localhost:8080/"
        },
        "id": "2dRZYQp5aC7F",
        "outputId": "c84ef6e1-414a-4b3c-b0d8-fd5dee19b12d"
      },
      "execution_count": 141,
      "outputs": [
        {
          "output_type": "stream",
          "name": "stdout",
          "text": [
            "[ 0  2  4  6  8 10 12 14 16 18]\n"
          ]
        }
      ]
    },
    {
      "cell_type": "code",
      "source": [
        "ones = np.ones((3,3))\n",
        "zeros = np.zeros((1,3))\n",
        "print(ones)\n",
        "print(zeros)"
      ],
      "metadata": {
        "colab": {
          "base_uri": "https://localhost:8080/"
        },
        "id": "WZvQikk3aYP3",
        "outputId": "e58b6deb-d523-489a-c640-95374c5eadce"
      },
      "execution_count": 144,
      "outputs": [
        {
          "output_type": "stream",
          "name": "stdout",
          "text": [
            "[[1. 1. 1.]\n",
            " [1. 1. 1.]\n",
            " [1. 1. 1.]]\n",
            "[[0. 0. 0.]]\n"
          ]
        }
      ]
    },
    {
      "cell_type": "code",
      "source": [
        "arr_5 = np.random.rand(2,3)\n",
        "print(arr_5)"
      ],
      "metadata": {
        "colab": {
          "base_uri": "https://localhost:8080/"
        },
        "id": "EpJ2cvjZa2Ve",
        "outputId": "fde8db1f-8e4b-4d22-942e-9af09c0b6043"
      },
      "execution_count": 147,
      "outputs": [
        {
          "output_type": "stream",
          "name": "stdout",
          "text": [
            "[[0.6839735  0.1681433  0.78075578]\n",
            " [0.02060311 0.14380381 0.99172782]]\n"
          ]
        }
      ]
    },
    {
      "cell_type": "code",
      "source": [
        "arr_5 = np.reshape(arr_5,(1,6))\n",
        "print(arr_5)"
      ],
      "metadata": {
        "colab": {
          "base_uri": "https://localhost:8080/"
        },
        "id": "2g35KJsubP3a",
        "outputId": "7aaa0044-ef97-49f5-c75b-4fe80a6a00ed"
      },
      "execution_count": 152,
      "outputs": [
        {
          "output_type": "stream",
          "name": "stdout",
          "text": [
            "[[0.6839735  0.1681433  0.78075578 0.02060311 0.14380381 0.99172782]]\n"
          ]
        }
      ]
    },
    {
      "cell_type": "code",
      "source": [
        "total = np.sum(arr_2,axis = 1)\n",
        "print(total)"
      ],
      "metadata": {
        "colab": {
          "base_uri": "https://localhost:8080/"
        },
        "id": "7GcjDyRtb-vs",
        "outputId": "97844742-3f8c-452f-a73c-fb4a2e1bfa2b"
      },
      "execution_count": 155,
      "outputs": [
        {
          "output_type": "stream",
          "name": "stdout",
          "text": [
            "[ 6 15]\n"
          ]
        }
      ]
    },
    {
      "cell_type": "code",
      "source": [
        "import pandas as pd\n",
        "\n",
        "series = pd.Series([1,2,3,4])\n",
        "print(series)"
      ],
      "metadata": {
        "colab": {
          "base_uri": "https://localhost:8080/"
        },
        "id": "aRHGll4fdgm4",
        "outputId": "76cce245-256d-456a-fd04-9ff439331054"
      },
      "execution_count": 156,
      "outputs": [
        {
          "output_type": "stream",
          "name": "stdout",
          "text": [
            "0    1\n",
            "1    2\n",
            "2    3\n",
            "3    4\n",
            "dtype: int64\n"
          ]
        }
      ]
    },
    {
      "cell_type": "code",
      "source": [
        "data = {\"name\":[\"alice\",\"bob\"],\"age\":[12,17],\"city\":[\"new york\",\"los angeles\"]}\n",
        "df = pd.DataFrame(data)\n",
        "print(df)"
      ],
      "metadata": {
        "colab": {
          "base_uri": "https://localhost:8080/"
        },
        "id": "KRV-Gdedd7ns",
        "outputId": "7fa6b7f9-9de1-4ebd-c909-2720a5c69894"
      },
      "execution_count": 158,
      "outputs": [
        {
          "output_type": "stream",
          "name": "stdout",
          "text": [
            "    name  age         city\n",
            "0  alice   12     new york\n",
            "1    bob   17  los angeles\n"
          ]
        }
      ]
    },
    {
      "cell_type": "code",
      "source": [
        "ages = df[\"age\"]\n",
        "print(ages)"
      ],
      "metadata": {
        "colab": {
          "base_uri": "https://localhost:8080/"
        },
        "id": "aH6UdDzBeqAu",
        "outputId": "bdc8344b-32a2-4dfc-cf58-0db20cf34fc4"
      },
      "execution_count": 159,
      "outputs": [
        {
          "output_type": "stream",
          "name": "stdout",
          "text": [
            "0    12\n",
            "1    17\n",
            "Name: age, dtype: int64\n"
          ]
        }
      ]
    },
    {
      "cell_type": "code",
      "source": [
        "#& | ~\n",
        "data_2 = df[~(df[\"age\"] > 14)]\n",
        "print(data_2)"
      ],
      "metadata": {
        "colab": {
          "base_uri": "https://localhost:8080/"
        },
        "id": "V_0G-yuue5BD",
        "outputId": "39c4be58-2aee-4fb7-eb97-11eeaa6828a5"
      },
      "execution_count": 163,
      "outputs": [
        {
          "output_type": "stream",
          "name": "stdout",
          "text": [
            "    name  age      city\n",
            "0  alice   12  new york\n"
          ]
        }
      ]
    },
    {
      "cell_type": "code",
      "source": [
        "df[\"age\"] = 25\n",
        "print(np.sum(df[\"age\"]))"
      ],
      "metadata": {
        "colab": {
          "base_uri": "https://localhost:8080/"
        },
        "id": "Ce-IWipAgHym",
        "outputId": "8620c2fd-1378-49cb-b67a-f00c8bdd8792"
      },
      "execution_count": 166,
      "outputs": [
        {
          "output_type": "stream",
          "name": "stdout",
          "text": [
            "50\n"
          ]
        }
      ]
    },
    {
      "cell_type": "code",
      "source": [
        "arr_6 = np.array([1,2,\"5\"])\n",
        "print(arr_6.dtype)"
      ],
      "metadata": {
        "colab": {
          "base_uri": "https://localhost:8080/"
        },
        "id": "TduM833zhQMh",
        "outputId": "9a63f93f-babc-40a3-bbf8-d79fc25b1132"
      },
      "execution_count": 169,
      "outputs": [
        {
          "output_type": "stream",
          "name": "stdout",
          "text": [
            "<U21\n"
          ]
        }
      ]
    },
    {
      "cell_type": "code",
      "source": [
        "import matplotlib.pyplot as plt"
      ],
      "metadata": {
        "id": "duaaAgDoiPCG"
      },
      "execution_count": 170,
      "outputs": []
    },
    {
      "cell_type": "code",
      "source": [
        "fig, ax = plt.subplots()\n",
        "x = [1,2,3,4,5,6]\n",
        "y = [2,4,6,8,10,12]\n",
        "\n",
        "ax.plot(x,y,label= \"line plot\")\n",
        "plt.show()"
      ],
      "metadata": {
        "colab": {
          "base_uri": "https://localhost:8080/",
          "height": 430
        },
        "id": "fWpxuHj0iWx9",
        "outputId": "516dddb6-67c1-4aca-dca0-e605c4054faa"
      },
      "execution_count": 179,
      "outputs": [
        {
          "output_type": "display_data",
          "data": {
            "text/plain": [
              "<Figure size 640x480 with 1 Axes>"
            ],
            "image/png": "[encoded data removed]"
          },
          "metadata": {}
        }
      ]
    },
    {
      "cell_type": "code",
      "source": [
        "\n",
        "x = [1,2,3,4,5,6]\n",
        "y = [2,4,6,8,10,12]\n",
        "\n",
        "ax.scatter(x,y,marker = \"s\",color=\"red\",label= \"Customized scatter\")\n",
        "ax.set_xlabel(\"x label\")\n",
        "ax.set_ylabel(\"y label\")\n",
        "ax.set_title(\"Title\")\n",
        "plt.show()"
      ],
      "metadata": {
        "colab": {
          "base_uri": "https://localhost:8080/",
          "height": 472
        },
        "id": "0VdlhNpKjc2N",
        "outputId": "8b79a51a-6b17-47cd-cec1-0710b26de9ed"
      },
      "execution_count": 180,
      "outputs": [
        {
          "output_type": "display_data",
          "data": {
            "text/plain": [
              "<Figure size 640x480 with 1 Axes>"
            ],
            "image/png": "[encoded data removed]"
          },
          "metadata": {}
        }
      ]
    },
    {
      "cell_type": "code",
      "source": [
        "print(type(fig))"
      ],
      "metadata": {
        "colab": {
          "base_uri": "https://localhost:8080/"
        },
        "id": "RQZdymYjlqTz",
        "outputId": "12400779-3255-4a17-aae3-96c8f0d67c67"
      },
      "execution_count": 178,
      "outputs": [
        {
          "output_type": "stream",
          "name": "stdout",
          "text": [
            "<class 'matplotlib.figure.Figure'>\n"
          ]
        }
      ]
    },
    {
      "cell_type": "code",
      "source": [],
      "metadata": {
        "id": "HmpPdEq4l_iu"
      },
      "execution_count": null,
      "outputs": []
    }
  ]
}