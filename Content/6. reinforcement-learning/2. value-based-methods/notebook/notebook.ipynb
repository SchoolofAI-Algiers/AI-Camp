{
  "cells": [
    {
      "cell_type": "markdown",
      "metadata": {
        "id": "kwZ_czBJva2Q"
      },
      "source": [
        "# Modules"
      ]
    },
    {
      "cell_type": "code",
      "execution_count": 347,
      "metadata": {
        "id": "R3bu6k6lf5ft"
      },
      "outputs": [],
      "source": [
        "import matplotlib.pyplot as plt\n",
        "import numpy as np"
      ]
    },
    {
      "cell_type": "markdown",
      "metadata": {
        "id": "BsjcqPSJvcng"
      },
      "source": [
        "# 1. Eat The Cheeze 🐭🧀"
      ]
    },
    {
      "cell_type": "markdown",
      "metadata": {},
      "source": [
        "## Cute Mouse Environment\n",
        "\n",
        "![Mouse Environment](./assets/mouse.png)"
      ]
    },
    {
      "cell_type": "markdown",
      "metadata": {},
      "source": [
        "## Utils"
      ]
    },
    {
      "cell_type": "code",
      "execution_count": 365,
      "metadata": {},
      "outputs": [],
      "source": [
        "def visualize_mouse_env(locations, matrix=np.zeros((2,3))):\n",
        "    rows, cols = len(matrix), len(matrix[0])\n",
        "    binary_matrix = np.array(matrix)\n",
        "\n",
        "    # Plot the maze\n",
        "    plt.figure(figsize=(cols, rows))\n",
        "    plt.imshow(binary_matrix, cmap='binary', interpolation='nearest')\n",
        "\n",
        "    # Add grid lines between each cell\n",
        "    for i in range(cols - 1):\n",
        "        plt.axvline(i + 0.5, color='gray', linestyle='-', linewidth=0.5)\n",
        "    for i in range(rows - 1):\n",
        "        plt.axhline(i + 0.5, color='gray', linestyle='-', linewidth=0.5)\n",
        "\n",
        "    # Display the start and finish points using scatter\n",
        "    plt.scatter(locations['cheese-small'][1], locations['cheese-small'][0], color='orange', s=200, marker='s', label='cheese-small')\n",
        "    plt.scatter(locations['cheese-big'][1], locations['cheese-big'][0], color='orange', s=500, marker='s', label='cheese-big')\n",
        "    plt.scatter(locations['poison'][1], locations['poison'][0], color='red', s=500, marker='s', label='poison')\n",
        "    plt.scatter(locations['mouse'][1], locations['mouse'][0], color='gray', s=100, marker='o', label='mouse')\n",
        "\n",
        "    # Customize plot appearance\n",
        "    plt.title('Mouse Env Visualization')\n",
        "    plt.xticks([])  # Hide x-axis ticks\n",
        "    plt.yticks([])  # Hide y-axis ticks\n",
        "    plt.grid(False)  # Hide grid lines\n",
        "\n",
        "    # Display the maze\n",
        "    plt.show()"
      ]
    },
    {
      "cell_type": "code",
      "execution_count": 366,
      "metadata": {},
      "outputs": [],
      "source": [
        "def draw_q_table(state_action_values, actions):\n",
        "    num_states, num_actions = state_action_values.shape\n",
        "\n",
        "    # Create a figure and axis\n",
        "    fig, ax = plt.subplots()\n",
        "    ax.axis('off')  # Turn off the axis\n",
        "\n",
        "    # Create a table\n",
        "    table_data = []\n",
        "    for state in range(num_states):\n",
        "        row_data = [f'[{state//3}, {state%3}]']\n",
        "        for action in range(num_actions):\n",
        "            q_value = state_action_values[state, action]\n",
        "            row_data.append(f'{q_value:.1f}')\n",
        "        table_data.append(row_data)\n",
        "\n",
        "    # Display the table\n",
        "    table = ax.table(cellText=table_data, loc='center', colLabels=['State-Action'] + [f'{a}' for a in actions],\n",
        "                     cellLoc='center', colColours=['#f0f0f0']*(num_actions+1), colWidths=[0.2]*(num_actions+1))\n",
        "\n",
        "    # Set font size\n",
        "    table.auto_set_font_size(False)\n",
        "    table.set_fontsize(12)\n",
        "\n",
        "    # Adjust the layout\n",
        "    table.auto_set_column_width(1.5)\n",
        "    \n",
        "    # Add more space between cells\n",
        "    table.scale(1.5, 1.5)\n",
        "\n",
        "    # Show the plot\n",
        "    plt.show()"
      ]
    },
    {
      "cell_type": "code",
      "execution_count": 367,
      "metadata": {},
      "outputs": [],
      "source": [
        "def move(current_location, action, rewards, initial_location=[0,0]):\n",
        "    if action == 'Up':\n",
        "        if current_location[0] != 0:\n",
        "            updated_location = [current_location[0] - 1, current_location[1]]\n",
        "            if str(updated_location) in rewards.keys():\n",
        "                if rewards[str(updated_location)] < 0:\n",
        "                    return initial_location, rewards[str(updated_location)]\n",
        "                else:\n",
        "                    return updated_location, rewards[str(updated_location)]\n",
        "            else:\n",
        "                return updated_location, 0\n",
        "        else:\n",
        "            return current_location, 0\n",
        "    \n",
        "    if action == 'Down':\n",
        "        if current_location[0] != 1:\n",
        "            updated_location = [current_location[0] + 1, current_location[1]]\n",
        "            if str(updated_location) in rewards.keys():\n",
        "                if rewards[str(updated_location)] < 0:\n",
        "                    return initial_location, rewards[str(updated_location)]\n",
        "                else:\n",
        "                    return updated_location, rewards[str(updated_location)]\n",
        "            else:\n",
        "                return updated_location, 0\n",
        "        else:\n",
        "            return current_location, 0\n",
        "    \n",
        "    if action == 'Left':\n",
        "        if current_location[1] != 0:\n",
        "            updated_location = [current_location[0], current_location[1] - 1]\n",
        "            if str(updated_location) in rewards.keys():\n",
        "                if rewards[str(updated_location)] < 0:\n",
        "                    return initial_location, rewards[str(updated_location)]\n",
        "                else:\n",
        "                    return updated_location, rewards[str(updated_location)]\n",
        "            else:\n",
        "                return updated_location, 0\n",
        "        else:\n",
        "            return current_location, 0\n",
        "        \n",
        "    if action == 'Right':\n",
        "        if current_location[1] != 2:\n",
        "            updated_location = [current_location[0], current_location[1] + 1]\n",
        "            if str(updated_location) in rewards.keys():\n",
        "                if rewards[str(updated_location)] < 0:\n",
        "                    return initial_location, rewards[str(updated_location)]\n",
        "                else:\n",
        "                    return updated_location, rewards[str(updated_location)]\n",
        "            else:\n",
        "                return updated_location, 0\n",
        "        else:\n",
        "            return current_location, 0\n",
        "      "
      ]
    },
    {
      "cell_type": "code",
      "execution_count": 368,
      "metadata": {},
      "outputs": [],
      "source": [
        "def get_action_state_index(state):\n",
        "    return state[0] * 3 + state[1]"
      ]
    },
    {
      "cell_type": "markdown",
      "metadata": {},
      "source": [
        "## Setup"
      ]
    },
    {
      "cell_type": "code",
      "execution_count": 386,
      "metadata": {},
      "outputs": [],
      "source": [
        "actions = ['Up', 'Down', 'Right', 'Left']\n",
        "\n",
        "locations = {\n",
        "    'mouse': [0,0],\n",
        "    'cheese-small': [0,1],\n",
        "    'cheese-big': [1,2],\n",
        "    'poison': [1,1]\n",
        "}\n",
        "\n",
        "rewards = {\n",
        "    str(locations['cheese-small']): 1,\n",
        "    str(locations['cheese-big']): 3,\n",
        "    str(locations['poison']): -5\n",
        "}\n",
        "\n",
        "state_action_values = np.zeros((2*3, len(actions)))"
      ]
    },
    {
      "cell_type": "code",
      "execution_count": 385,
      "metadata": {},
      "outputs": [
        {
          "data": {
            "image/png": "[encoded data removed]",
            "text/plain": [
              "<Figure size 300x200 with 1 Axes>"
            ]
          },
          "metadata": {},
          "output_type": "display_data"
        }
      ],
      "source": [
        "visualize_mouse_env(locations)"
      ]
    },
    {
      "cell_type": "markdown",
      "metadata": {},
      "source": [
        "## Learning"
      ]
    },
    {
      "cell_type": "code",
      "execution_count": 387,
      "metadata": {},
      "outputs": [
        {
          "data": {
            "image/png": "[encoded data removed]",
            "text/plain": [
              "<Figure size 640x480 with 1 Axes>"
            ]
          },
          "metadata": {},
          "output_type": "display_data"
        }
      ],
      "source": [
        "draw_q_table(state_action_values, actions)"
      ]
    },
    {
      "cell_type": "code",
      "execution_count": 388,
      "metadata": {},
      "outputs": [],
      "source": [
        "learning_rate = 0.1\n",
        "discount_rate = 0.5\n",
        "current_location = locations['mouse']"
      ]
    },
    {
      "cell_type": "code",
      "execution_count": 395,
      "metadata": {},
      "outputs": [
        {
          "name": "stdout",
          "output_type": "stream",
          "text": [
            "Q(St, At) += learning_rate * [ Rt + discount_rate * max(Q(St+1, At+1)) - Q(St, At)]\n",
            "Q[[1, 2], Left] += 0.1 * [ -5 + 0.5 * max(Q[0, 0], At+1) - Q[1, 2], Left]\n",
            "Q[[1, 2], Left] += 0.1 * [ -5 + 0.5 * 0.1 - 0.0]\n"
          ]
        }
      ],
      "source": [
        "action = 'Left'\n",
        "next_location, reward = move(current_location, action, rewards)\n",
        "\n",
        "\n",
        "formula = \"Q(St, At) += learning_rate * [ Rt + discount_rate * max(Q(St+1, At+1)) - Q(St, At)]\"\n",
        "formatted_formula = f\"Q[{current_location}, {action}] += {learning_rate} * [ {reward} + {discount_rate} * max(Q{next_location}, At+1) - Q{current_location}, {action}]\"\n",
        "calculated_formula = f\"Q[{current_location}, {action}] += {learning_rate} * [ {reward} + {discount_rate} * {max(state_action_values[get_action_state_index(next_location)])} - {state_action_values[get_action_state_index(current_location), actions.index(action)]}]\"\n",
        "\n",
        "print(formula)\n",
        "print(formatted_formula)\n",
        "print(calculated_formula)\n",
        "\n",
        "state_action_values[get_action_state_index(current_location), actions.index(action)] += learning_rate * (reward + discount_rate * max(state_action_values[get_action_state_index(next_location)]) - state_action_values[get_action_state_index(current_location), actions.index(action)])\n",
        "current_location = next_location\n"
      ]
    },
    {
      "cell_type": "code",
      "execution_count": 396,
      "metadata": {},
      "outputs": [
        {
          "data": {
            "image/png": "[encoded data removed]",
            "text/plain": [
              "<Figure size 640x480 with 1 Axes>"
            ]
          },
          "metadata": {},
          "output_type": "display_data"
        }
      ],
      "source": [
        "draw_q_table(state_action_values, actions)"
      ]
    },
    {
      "cell_type": "markdown",
      "metadata": {},
      "source": [
        "## Simulation"
      ]
    },
    {
      "cell_type": "code",
      "execution_count": 397,
      "metadata": {},
      "outputs": [],
      "source": [
        "def epsilon_greedy(action_values, epsilon=0.5):\n",
        "    if np.random.random() < epsilon:\n",
        "        return np.random.choice(len(action_values))\n",
        "    else:\n",
        "        return np.argmax(action_values)"
      ]
    },
    {
      "cell_type": "code",
      "execution_count": 398,
      "metadata": {},
      "outputs": [],
      "source": [
        "def simulate(steps):\n",
        "    current_location = locations['mouse']\n",
        "    for i in range(steps):\n",
        "        action = actions[epsilon_greedy(state_action_values[get_action_state_index(current_location)])]\n",
        "        next_location, reward = move(current_location, action, rewards)\n",
        "        state_action_values[get_action_state_index(current_location), actions.index(action)] += learning_rate * (reward + discount_rate * max(state_action_values[get_action_state_index(next_location)]) - state_action_values[get_action_state_index(current_location), actions.index(action)])\n",
        "        current_location = next_location\n",
        "    draw_q_table(state_action_values, actions)"
      ]
    },
    {
      "cell_type": "code",
      "execution_count": 401,
      "metadata": {},
      "outputs": [
        {
          "data": {
            "image/png": "[encoded data removed]",
            "text/plain": [
              "<Figure size 640x480 with 1 Axes>"
            ]
          },
          "metadata": {},
          "output_type": "display_data"
        }
      ],
      "source": [
        "simulate(steps=int(1e5))"
      ]
    },
    {
      "cell_type": "markdown",
      "metadata": {},
      "source": [
        "# 2. Navigate The Maze 🏁"
      ]
    },
    {
      "cell_type": "markdown",
      "metadata": {},
      "source": [
        "## Utils"
      ]
    },
    {
      "cell_type": "code",
      "execution_count": 402,
      "metadata": {
        "id": "tRZJZiQqf2Ug"
      },
      "outputs": [],
      "source": [
        "def visualize_maze(matrix, current_idx, start_idx=[2,0], finish_idx=[6,7], value_function=None, path=None):\n",
        "    rows, cols = len(matrix), len(matrix[0])\n",
        "\n",
        "    if value_function is None:\n",
        "      value_function = np.zeros((rows, cols))\n",
        "\n",
        "    # Create a binary image where 0 represents path and 1 represents a wall\n",
        "    binary_matrix = np.array(matrix)\n",
        "\n",
        "    # Plot the maze\n",
        "    plt.figure(figsize=(cols//2, rows//2))\n",
        "    plt.imshow(binary_matrix, cmap='binary', interpolation='nearest')\n",
        "\n",
        "    # Add grid lines between each cell\n",
        "    for i in range(cols - 1):\n",
        "        plt.axvline(i + 0.5, color='gray', linestyle='-', linewidth=0.5)\n",
        "    for i in range(rows - 1):\n",
        "        plt.axhline(i + 0.5, color='gray', linestyle='-', linewidth=0.5)\n",
        "\n",
        "    # Display the start and finish points using scatter\n",
        "    if path is None:\n",
        "        plt.scatter(current_idx[1], current_idx[0], color='orange', s=300, marker='s', label='Current')\n",
        "    else:\n",
        "        plt.scatter([idx[1] for idx in path], [idx[0] for idx in path], color='orange', s=300, marker='s', label='Path')\n",
        "    plt.scatter(start_idx[1], start_idx[0], color='green', s=200, marker='o', label='Start')\n",
        "    plt.scatter(finish_idx[1], finish_idx[0], color='red', s=200, marker='o', label='Finish')\n",
        "\n",
        "    # Display value function in each cell\n",
        "    for i in range(rows):\n",
        "        for j in range(cols):\n",
        "            value = value_function[i][j]\n",
        "            plt.text(j, i, f'{value:.1f}', color='black', ha='center', va='center')\n",
        "\n",
        "    # Customize plot appearance\n",
        "    plt.title('Maze Visualization')\n",
        "    plt.xticks([])  # Hide x-axis ticks\n",
        "    plt.yticks([])  # Hide y-axis ticks\n",
        "    plt.grid(False)  # Hide grid lines\n",
        "\n",
        "    # Display the maze\n",
        "    plt.show()"
      ]
    },
    {
      "cell_type": "markdown",
      "metadata": {},
      "source": [
        "## Environment"
      ]
    },
    {
      "cell_type": "code",
      "execution_count": 403,
      "metadata": {
        "colab": {
          "base_uri": "https://localhost:8080/",
          "height": 367
        },
        "id": "3m4Ttto1f7Fl",
        "outputId": "cfe93709-9383-45fb-f171-af7ecb9ba813"
      },
      "outputs": [
        {
          "data": {
            "image/png": "[encoded data removed]",
            "text/plain": [
              "<Figure size 400x400 with 1 Axes>"
            ]
          },
          "metadata": {},
          "output_type": "display_data"
        }
      ],
      "source": [
        "# Example usage:\n",
        "matrix = [\n",
        "    [1, 1, 1, 1, 1, 1, 1, 1],\n",
        "    [1, 0, 0, 0, 0, 0, 0, 1],\n",
        "    [0, 0, 1, 1, 0, 1, 0, 1],\n",
        "    [1, 0, 0, 1, 1, 0, 0, 1],\n",
        "    [1, 1, 0, 0, 1, 0, 1, 1],\n",
        "    [1, 0, 1, 0, 1, 0, 0, 1],\n",
        "    [1, 0, 0, 0, 0, 1, 0, 0],\n",
        "    [1, 1, 1, 1, 1, 1, 1, 1],\n",
        "]\n",
        "\n",
        "visualize_maze(matrix, current_idx=[2, 4])"
      ]
    },
    {
      "cell_type": "markdown",
      "metadata": {},
      "source": [
        "## Q-Learning"
      ]
    },
    {
      "cell_type": "markdown",
      "metadata": {},
      "source": [
        "### Setup"
      ]
    },
    {
      "cell_type": "code",
      "execution_count": 417,
      "metadata": {},
      "outputs": [],
      "source": [
        "MATRIX = [\n",
        "    [1, 1, 1, 1, 1, 1, 1, 1],\n",
        "    [1, 0, 0, 0, 0, 0, 0, 1],\n",
        "    [0, 0, 1, 1, 0, 1, 0, 1],\n",
        "    [1, 0, 0, 1, 1, 0, 0, 1],\n",
        "    [1, 1, 0, 0, 1, 0, 1, 1],\n",
        "    [1, 0, 1, 0, 1, 0, 0, 1],\n",
        "    [1, 0, 0, 0, 0, 1, 0, 0],\n",
        "    [1, 1, 1, 1, 1, 1, 1, 1],\n",
        "]\n",
        "\n",
        "START_INDEX = [2,0]\n",
        "FINISH_INDEX = [6,7]\n",
        "\n",
        "REWARDS = {\n",
        "    'step': -1,\n",
        "    'wall': -3,\n",
        "    'finish': -1\n",
        "}\n",
        "\n",
        "ACTIONS = ['UP', 'DOWN', 'RIGHT', 'LEFT']"
      ]
    },
    {
      "cell_type": "markdown",
      "metadata": {},
      "source": [
        "### Simulation"
      ]
    },
    {
      "cell_type": "code",
      "execution_count": 418,
      "metadata": {},
      "outputs": [],
      "source": [
        "def move(action, current_index, finish_index, rewards):\n",
        "    if action == 'UP':\n",
        "        next_index = [current_index[0] - 1, current_index[1]]\n",
        "        if next_index[0] >= 0 and MATRIX[next_index[0]][next_index[1]] == 0:\n",
        "            if next_index == finish_index:\n",
        "                return next_index, rewards['finish'], True\n",
        "            return next_index, rewards['step'], False\n",
        "        else:\n",
        "            return current_index, rewards['wall'], False\n",
        "    if action == 'DOWN':\n",
        "        next_index = [current_index[0] + 1, current_index[1]]\n",
        "        if next_index[0] < len(MATRIX) and MATRIX[next_index[0]][next_index[1]] == 0:\n",
        "            if next_index == finish_index:\n",
        "                return next_index, rewards['finish'], True\n",
        "            return next_index, rewards['step'], False\n",
        "        else:\n",
        "            return current_index, rewards['wall'], False\n",
        "    if action == 'RIGHT':\n",
        "        next_index = [current_index[0], current_index[1] + 1]\n",
        "        if next_index[1] < len(MATRIX[0]) and MATRIX[next_index[0]][next_index[1]] == 0:\n",
        "            if next_index == finish_index:\n",
        "                return next_index, rewards['finish'], True\n",
        "            return next_index, rewards['step'], False\n",
        "        else:\n",
        "            return current_index, rewards['wall'], False\n",
        "    if action == 'LEFT':\n",
        "        next_index = [current_index[0], current_index[1] - 1]\n",
        "        if next_index[1] >= 0 and MATRIX[next_index[0]][next_index[1]] == 0:\n",
        "            if next_index == finish_index:\n",
        "                return next_index, rewards['finish'], True\n",
        "            return next_index, rewards['step'], False\n",
        "        else:\n",
        "            return current_index, rewards['wall'], False"
      ]
    },
    {
      "cell_type": "markdown",
      "metadata": {},
      "source": [
        "### Policy"
      ]
    },
    {
      "cell_type": "code",
      "execution_count": 407,
      "metadata": {},
      "outputs": [],
      "source": [
        "def epsilon_greedy_policy(action_values, step, max_steps):\n",
        "    epsilon = 1 - step/max_steps\n",
        "    if np.random.random() < epsilon:\n",
        "        return np.random.choice(len(action_values))\n",
        "    else:\n",
        "        return np.argmax(action_values)"
      ]
    },
    {
      "cell_type": "code",
      "execution_count": 408,
      "metadata": {},
      "outputs": [],
      "source": [
        "def greedy_policy(action_values):\n",
        "    return np.argmax(action_values)"
      ]
    },
    {
      "cell_type": "markdown",
      "metadata": {},
      "source": [
        "### Values"
      ]
    },
    {
      "cell_type": "code",
      "execution_count": 409,
      "metadata": {},
      "outputs": [],
      "source": [
        "def get_state_values(state_action_values):\n",
        "    return np.max(state_action_values, axis=2)"
      ]
    },
    {
      "cell_type": "markdown",
      "metadata": {},
      "source": [
        "### Training"
      ]
    },
    {
      "cell_type": "code",
      "execution_count": 419,
      "metadata": {},
      "outputs": [],
      "source": [
        "EPISODES = int(1e4)\n",
        "MAX_STEPS = 50\n",
        "\n",
        "LEARNING_RATE = 0.5\n",
        "DISCOUNT_FACTOR = 0.9\n",
        "\n",
        "STATE_ACTION_VALUES = np.zeros((len(MATRIX), len(MATRIX[0]), len(ACTIONS)))"
      ]
    },
    {
      "cell_type": "code",
      "execution_count": 420,
      "metadata": {},
      "outputs": [],
      "source": [
        "def training():\n",
        "    for episode in range(EPISODES):\n",
        "        current_index = START_INDEX\n",
        "        cumulative_reward = 0\n",
        "        \n",
        "        for step in range(MAX_STEPS):\n",
        "            action = ACTIONS[epsilon_greedy_policy(STATE_ACTION_VALUES[current_index[0], current_index[1]], episode*MAX_STEPS+step, EPISODES*MAX_STEPS)]\n",
        "            next_index, reward, terminated = move(action, current_index, FINISH_INDEX, REWARDS)\n",
        "            \n",
        "            STATE_ACTION_VALUES[current_index[0], current_index[1], ACTIONS.index(action)] += LEARNING_RATE * (reward + DISCOUNT_FACTOR * max(STATE_ACTION_VALUES[next_index[0], next_index[1]]) - STATE_ACTION_VALUES[current_index[0], current_index[1], ACTIONS.index(action)])\n",
        "            \n",
        "            current_index = next_index\n",
        "            cumulative_reward += reward\n",
        "            if terminated == True:\n",
        "                break\n",
        "\n",
        "        if episode % 1000 == 0:\n",
        "            print(f\"Episode {episode+1}/{EPISODES}, Cumulative Reward: {cumulative_reward}\")\n",
        "        \n",
        "    return STATE_ACTION_VALUES"
      ]
    },
    {
      "cell_type": "code",
      "execution_count": 421,
      "metadata": {},
      "outputs": [
        {
          "name": "stdout",
          "output_type": "stream",
          "text": [
            "Episode 1/10000, Cumulative Reward: -88\n",
            "Episode 1001/10000, Cumulative Reward: -92\n",
            "Episode 2001/10000, Cumulative Reward: -92\n",
            "Episode 3001/10000, Cumulative Reward: -78\n",
            "Episode 4001/10000, Cumulative Reward: -48\n",
            "Episode 5001/10000, Cumulative Reward: -53\n",
            "Episode 6001/10000, Cumulative Reward: -23\n",
            "Episode 7001/10000, Cumulative Reward: -28\n",
            "Episode 8001/10000, Cumulative Reward: -26\n",
            "Episode 9001/10000, Cumulative Reward: -18\n"
          ]
        }
      ],
      "source": [
        "state_action_values = training()\n",
        "state_values = get_state_values(state_action_values)"
      ]
    },
    {
      "cell_type": "code",
      "execution_count": 422,
      "metadata": {},
      "outputs": [
        {
          "data": {
            "image/png": "[encoded data removed]",
            "text/plain": [
              "<Figure size 400x400 with 1 Axes>"
            ]
          },
          "metadata": {},
          "output_type": "display_data"
        }
      ],
      "source": [
        "visualize_maze(MATRIX, current_idx=START_INDEX, value_function=state_values)"
      ]
    },
    {
      "cell_type": "markdown",
      "metadata": {},
      "source": [
        "### Evaluation"
      ]
    },
    {
      "cell_type": "code",
      "execution_count": 414,
      "metadata": {},
      "outputs": [],
      "source": [
        "def evaluate(state_action_values):\n",
        "    current_index = START_INDEX\n",
        "    path = [current_index]\n",
        "    terminated = False\n",
        "    while not terminated:\n",
        "        action = ACTIONS[greedy_policy(STATE_ACTION_VALUES[current_index[0], current_index[1]])]\n",
        "        next_index, reward, terminated = move(action, current_index, FINISH_INDEX, REWARDS)\n",
        "        path.append(next_index)\n",
        "        current_index = next_index\n",
        "    return path"
      ]
    },
    {
      "cell_type": "code",
      "execution_count": 423,
      "metadata": {},
      "outputs": [
        {
          "data": {
            "image/png": "[encoded data removed]",
            "text/plain": [
              "<Figure size 400x400 with 1 Axes>"
            ]
          },
          "metadata": {},
          "output_type": "display_data"
        }
      ],
      "source": [
        "path = evaluate(state_action_values)\n",
        "visualize_maze(MATRIX, current_idx=START_INDEX, value_function=state_values, path=path)"
      ]
    },
    {
      "cell_type": "markdown",
      "metadata": {},
      "source": [
        "## DQN"
      ]
    },
    {
      "cell_type": "markdown",
      "metadata": {},
      "source": [
        "# 3. Land On The Moon 🌚"
      ]
    },
    {
      "cell_type": "markdown",
      "metadata": {},
      "source": [
        "## Github Project"
      ]
    },
    {
      "cell_type": "markdown",
      "metadata": {},
      "source": [
        "[Lunar Lander with DQN](https://github.com/BrouthenKamel/lunar-lander/tree/main)"
      ]
    }
  ],
  "metadata": {
    "colab": {
      "provenance": []
    },
    "kernelspec": {
      "display_name": "Python 3",
      "name": "python3"
    },
    "language_info": {
      "codemirror_mode": {
        "name": "ipython",
        "version": 3
      },
      "file_extension": ".py",
      "mimetype": "text/x-python",
      "name": "python",
      "nbconvert_exporter": "python",
      "pygments_lexer": "ipython3",
      "version": "3.9.16"
    }
  },
  "nbformat": 4,
  "nbformat_minor": 0
}
