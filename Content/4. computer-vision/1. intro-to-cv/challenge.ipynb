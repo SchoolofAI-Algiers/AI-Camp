{
  "nbformat": 4,
  "nbformat_minor": 0,
  "metadata": {
    "colab": {
      "provenance": []
    },
    "kernelspec": {
      "name": "python3",
      "display_name": "Python 3"
    },
    "language_info": {
      "name": "python"
    }
  },
  "cells": [
    {
      "cell_type": "markdown",
      "source": [
        "# Guided Challenge: Applying CNNs to Fashion-MNIST Dataset\n",
        "## Objective:\n",
        "The primary goal of this guided challenge is to provide students with hands-on experience applying Convolutional Neural Networks (CNNs) to the Fashion-MNIST dataset, a variant of the original MNIST dataset that contains 10 categories of fashion products such as T-shirts, trousers, pullovers, dresses, coats, sandals, shirts, sneakers, bags, and ankle boots."
      ],
      "metadata": {
        "id": "MBc3w6L4-8Wo"
      }
    },
    {
      "cell_type": "markdown",
      "source": [
        "## Dataset Overview:\n",
        "Fashion-MNIST Dataset:\n",
        "\n",
        "* Fashion-MNIST consists of 60,000 training images and 10,000 test images, each of size 28x28 pixels.\n",
        "* The dataset contains grayscale images of fashion products belonging to 10 different categories.\n",
        "Objective:\n",
        "\n",
        "The challenge involves developing and training a CNN model to classify fashion products accurately based on the provided images."
      ],
      "metadata": {
        "id": "20GzBAdF_EnY"
      }
    },
    {
      "cell_type": "markdown",
      "source": [
        "### Step 1: Import Necessary Libraries\n",
        "Import essential libraries such as TensorFlow, Keras, NumPy, and Matplotlib for dataset handling, model creation, training, and evaluation."
      ],
      "metadata": {
        "id": "r0XFG-ez_PHP"
      }
    },
    {
      "cell_type": "code",
      "source": [
        "import numpy as np\n",
        "import tensorflow as tf\n",
        "from tensorflow.keras.datasets import fashion_mnist\n",
        "# Import what you need ..."
      ],
      "metadata": {
        "id": "oy1d0rGHAutW"
      },
      "execution_count": null,
      "outputs": []
    },
    {
      "cell_type": "markdown",
      "source": [
        "### Step 2: Load and Preprocess the Fashion-MNIST Dataset\n",
        "* Load the Fashion-MNIST dataset using Keras.\n",
        "* Preprocess the images by normalizing pixel values, reshaping the data, and converting labels into a one-hot encoded format suitable for model training."
      ],
      "metadata": {
        "id": "UOzd5Gkb_VvY"
      }
    },
    {
      "cell_type": "code",
      "execution_count": null,
      "metadata": {
        "id": "FkSODudO-6OH"
      },
      "outputs": [],
      "source": [
        "# Load the Fashion-MNIST dataset\n",
        "\n",
        "\n",
        "# Display the shape of the dataset\n",
        "print(f\"Training images shape: {train_images.shape}\")  # Output will be (60000, 28, 28)\n",
        "print(f\"Training labels shape: {train_labels.shape}\")  # Output will be (60000,)\n",
        "print(f\"Test images shape: {test_images.shape}\")      # Output will be (10000, 28, 28)\n",
        "print(f\"Test labels shape: {test_labels.shape}\")       # Output will be (10000,)"
      ]
    },
    {
      "cell_type": "markdown",
      "source": [
        "This next code is made for visualizing some of the images"
      ],
      "metadata": {
        "id": "lP77VtUGADbW"
      }
    },
    {
      "cell_type": "code",
      "source": [
        "# Define class names for visualization\n",
        "class_names = ['T-shirt/top', 'Trouser', 'Pullover', 'Dress', 'Coat',\n",
        "               'Sandal', 'Shirt', 'Sneaker', 'Bag', 'Ankle boot']\n",
        "\n",
        "# Define the number of images to visualize\n",
        "num_images = 5\n",
        "\n",
        "# Create a figure and a grid of subplots with specified dimensions\n",
        "plt.figure(figsize=(10, 10))\n",
        "for i in range(num_images):\n",
        "    # Display the image in a grid with 1 row and 'num_images' columns\n",
        "    plt.subplot(1, num_images, i + 1)\n",
        "\n",
        "    # Display the image with its corresponding label\n",
        "    plt.imshow(train_images[i], cmap=plt.cm.binary)\n",
        "\n",
        "    # Set title to the class name based on the label\n",
        "    plt.title(class_names[train_labels[i]])\n",
        "\n",
        "    # Turn off axis labels to enhance visualization\n",
        "    plt.axis('off')\n",
        "\n",
        "# Show the plot\n",
        "plt.tight_layout()\n",
        "plt.show()"
      ],
      "metadata": {
        "id": "OHJ-5bQ3ACLP"
      },
      "execution_count": null,
      "outputs": []
    },
    {
      "cell_type": "markdown",
      "source": [
        "### Step 3: Build the Convolutional Neural Network (CNN) Model\n",
        "* Design a CNN model architecture comprising convolutional layers, max-pooling layers, and fully connected layers to learn and extract features from the Fashion-MNIST images.\n",
        "* Compile the model using an appropriate optimizer, loss function, and performance metrics to evaluate the model's accuracy and performance."
      ],
      "metadata": {
        "id": "kR_4GDS9_uNf"
      }
    },
    {
      "cell_type": "code",
      "source": [],
      "metadata": {
        "id": "ayESHze6_1Lr"
      },
      "execution_count": null,
      "outputs": []
    },
    {
      "cell_type": "markdown",
      "source": [
        "### Step 4: Train the CNN Model\n",
        "* Train the CNN model on the preprocessed Fashion-MNIST training dataset, specifying training parameters such as epochs, batch size, and validation split."
      ],
      "metadata": {
        "id": "j_-7zE2fAS1H"
      }
    },
    {
      "cell_type": "code",
      "source": [],
      "metadata": {
        "id": "7LKNbhqtAfGZ"
      },
      "execution_count": null,
      "outputs": []
    },
    {
      "cell_type": "markdown",
      "source": [
        "### Step 5: Evaluate the Trained Model"
      ],
      "metadata": {
        "id": "-ZJ-3AsxAgGu"
      }
    },
    {
      "cell_type": "code",
      "source": [],
      "metadata": {
        "id": "bDV2oNEVArAa"
      },
      "execution_count": null,
      "outputs": []
    }
  ]
}